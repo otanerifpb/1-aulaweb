{
  "nbformat": 4,
  "nbformat_minor": 0,
  "metadata": {
    "colab": {
      "provenance": [],
      "include_colab_link": true
    },
    "kernelspec": {
      "name": "python3",
      "display_name": "Python 3"
    }
  },
  "cells": [
    {
      "cell_type": "markdown",
      "metadata": {
        "id": "view-in-github",
        "colab_type": "text"
      },
      "source": [
        "<a href=\"https://colab.research.google.com/github/otanerifpb/1-aulaweb/blob/master/Estrutura_de_Decis%C3%A3o.ipynb\" target=\"_parent\"><img src=\"https://colab.research.google.com/assets/colab-badge.svg\" alt=\"Open In Colab\"/></a>"
      ]
    },
    {
      "cell_type": "markdown",
      "metadata": {
        "id": "PO8efkjRUtjo"
      },
      "source": [
        "**IFPB - CAMPUS JOÃO PESSOA    \n",
        "CURSO: SISTEMAS PARA INTERNET     \n",
        "DISCIPLINA: ALGORITMOS E PROGRAMAÇÃO ESTRUTURADA     \n",
        "PROFESSORES: CANDIDO EGYPTO / EDEMBERG ROCHA / GIOVANNI MELO**"
      ]
    },
    {
      "cell_type": "markdown",
      "metadata": {
        "id": "VVFFZyE0cJBJ"
      },
      "source": [
        "# LISTA DE EXERCÍCIOS (RESOLVIDA) – ESTRUTURA DE DECISÃO"
      ]
    },
    {
      "cell_type": "markdown",
      "metadata": {
        "id": "S9MjYNiFbGDT"
      },
      "source": [
        "##Questão 1"
      ]
    },
    {
      "cell_type": "markdown",
      "metadata": {
        "id": "mISrF8_Z9w8L"
      },
      "source": [
        "Escreva um programa que leia um número inteiro e determine se ele é par ou ímpar."
      ]
    },
    {
      "cell_type": "code",
      "metadata": {
        "id": "U8_NLVBp97Hu",
        "colab": {
          "base_uri": "https://localhost:8080/",
          "height": 50
        },
        "outputId": "2679da5e-9c00-4304-acb8-a96af800ccbb"
      },
      "source": [
        "n = int(input('Digite um número inteiro: '))\n",
        "\n",
        "if n % 2 == 0:\n",
        "  result = 'par'\n",
        "else:\n",
        "  result = 'ímpar'\n",
        "\n",
        "print(n,'é',result)"
      ],
      "execution_count": null,
      "outputs": [
        {
          "output_type": "stream",
          "text": [
            "Digite um número inteiro: 3\n",
            "3 é ímpar\n"
          ],
          "name": "stdout"
        }
      ]
    },
    {
      "cell_type": "markdown",
      "metadata": {
        "id": "VEOnOHOvzNVT"
      },
      "source": [
        "##Questão 2"
      ]
    },
    {
      "cell_type": "markdown",
      "metadata": {
        "id": "4uIk1i5Q-ZIg"
      },
      "source": [
        "Escreva um programa que leia dois números e exiba-os em ordem crescente."
      ]
    },
    {
      "cell_type": "code",
      "metadata": {
        "id": "nvF2s4cn0rva",
        "colab": {
          "base_uri": "https://localhost:8080/",
          "height": 84
        },
        "outputId": "4538625d-066b-4930-b07c-75315a2a0063"
      },
      "source": [
        "print('Digite dois números inteiros:')\n",
        "a = int(input())\n",
        "b = int(input())\n",
        "\n",
        "if a < b:\n",
        "  pri = a\n",
        "  seg = b\n",
        "else:\n",
        "  pri = b\n",
        "  seg = a\n",
        "\n",
        "print('Números em ordem crescente:',pri,seg)"
      ],
      "execution_count": null,
      "outputs": [
        {
          "output_type": "stream",
          "text": [
            "Digite dois números inteiros:\n",
            "5\n",
            "3\n",
            "Números em ordem crescente: 3 5\n"
          ],
          "name": "stdout"
        }
      ]
    },
    {
      "cell_type": "markdown",
      "metadata": {
        "id": "a9-9tlNp0ZDN"
      },
      "source": [
        "## Questão 3"
      ]
    },
    {
      "cell_type": "markdown",
      "metadata": {
        "id": "YnurKizu-ozN"
      },
      "source": [
        "Escreva um programa que leia 3 números inteiros, determine e mostre o maior deles."
      ]
    },
    {
      "cell_type": "markdown",
      "metadata": {
        "id": "fV9QASGInqLe"
      },
      "source": [
        "####Versão com if's simples"
      ]
    },
    {
      "cell_type": "code",
      "metadata": {
        "id": "nZRu4lMLbwgq",
        "colab": {
          "base_uri": "https://localhost:8080/",
          "height": 101
        },
        "outputId": "0f059239-1532-4b8e-c454-ce99ddc7757f"
      },
      "source": [
        "print('Digite 3 número inteiros:')\n",
        "a = int(input())\n",
        "b = int(input())\n",
        "c = int(input())\n",
        "\n",
        "if a >= b and a >= c:\n",
        "  maior = a;\n",
        "if b >= a and b >= c:\n",
        "  maior = b;\n",
        "if c >= a and c >= b:\n",
        "  maior = c;\n",
        "\n",
        "print('O maior é',maior)"
      ],
      "execution_count": null,
      "outputs": [
        {
          "output_type": "stream",
          "text": [
            "Digite 3 número inteiros:\n",
            "3\n",
            "2\n",
            "1\n",
            "O maior é 3\n"
          ],
          "name": "stdout"
        }
      ]
    },
    {
      "cell_type": "markdown",
      "metadata": {
        "id": "Tn6qJEkHn4NW"
      },
      "source": [
        "#### Versão com if...else"
      ]
    },
    {
      "cell_type": "code",
      "metadata": {
        "id": "TdWIYjSb2ei1",
        "colab": {
          "base_uri": "https://localhost:8080/",
          "height": 101
        },
        "outputId": "8d04c789-9f13-4580-83d7-49787c35e3b4"
      },
      "source": [
        "print('Digite 3 número inteiros:')\n",
        "a = int(input())\n",
        "b = int(input())\n",
        "c = int(input())\n",
        "\n",
        "if a > b and a > c:\n",
        "  maior = a;\n",
        "else:\n",
        "  if b > c:\n",
        "    maior = b;\n",
        "  else:\n",
        "    maior = c;\n",
        "\n",
        "print('O maior é',maior)"
      ],
      "execution_count": null,
      "outputs": [
        {
          "output_type": "stream",
          "text": [
            "Digite 3 número inteiros:\n",
            "3\n",
            "2\n",
            "1\n",
            "O maior é 3\n"
          ],
          "name": "stdout"
        }
      ]
    },
    {
      "cell_type": "markdown",
      "metadata": {
        "id": "ePzF8r_Xn9gl"
      },
      "source": [
        "####Versão com if...elif"
      ]
    },
    {
      "cell_type": "code",
      "metadata": {
        "id": "AaQPFtSE3EHX",
        "colab": {
          "base_uri": "https://localhost:8080/",
          "height": 101
        },
        "outputId": "f808c27e-3fe2-4d26-bec8-bdb94f986184"
      },
      "source": [
        "print('Digite 3 número inteiros:')\n",
        "a = int(input())\n",
        "b = int(input())\n",
        "c = int(input())\n",
        "\n",
        "if a > b and a > c:\n",
        "  maior = a;\n",
        "elif b > c:\n",
        "  maior = b;\n",
        "else:\n",
        "  maior = c;\n",
        "\n",
        "print('O maior é',maior)"
      ],
      "execution_count": null,
      "outputs": [
        {
          "output_type": "stream",
          "text": [
            "Digite 3 número inteiros:\n",
            "3\n",
            "2\n",
            "1\n",
            "O maior é 3\n"
          ],
          "name": "stdout"
        }
      ]
    },
    {
      "cell_type": "markdown",
      "metadata": {
        "id": "OwFlJqPwqoyc"
      },
      "source": [
        "##Questão 4"
      ]
    },
    {
      "cell_type": "markdown",
      "metadata": {
        "id": "Tm2rNLKQ-15f"
      },
      "source": [
        "Escreva um programa que leia o nome e o sexo (M ou F) de uma pessoa e exiba a mensagem \"Olá, Sr. Fulano!\" ou \"Olá, Sra. Fulana!\", de acordo com o sexo da pessoa.    \n",
        "Obs: Fulano e Fulana são nomes exemplos."
      ]
    },
    {
      "cell_type": "code",
      "metadata": {
        "id": "dTpinqBk0ET8",
        "colab": {
          "base_uri": "https://localhost:8080/",
          "height": 67
        },
        "outputId": "6d8683c9-074e-43f7-d892-a14a0a863cdf"
      },
      "source": [
        "nome = input('Nome: ')\n",
        "sexo = input('Sexo: ')\n",
        "\n",
        "if sexo == 'M' or sexo == 'm':\n",
        "  trat = 'Sr'\n",
        "else:\n",
        "  trat = 'Sra'\n",
        "\n",
        "print(f'Olá, {trat}. {nome}!')"
      ],
      "execution_count": null,
      "outputs": [
        {
          "output_type": "stream",
          "text": [
            "Nome: Cândido\n",
            "Sexo: m\n",
            "Olá, Sr. Cândido!\n"
          ],
          "name": "stdout"
        }
      ]
    },
    {
      "cell_type": "markdown",
      "metadata": {
        "id": "FtJ6-r5u--WY"
      },
      "source": [
        "##Questão 5"
      ]
    },
    {
      "cell_type": "markdown",
      "metadata": {
        "id": "AGRIMfsnsn7W"
      },
      "source": [
        "A empresa Vende Tudo Ltda paga o salário de cada vendedor com uma comissão de 5% sobre o total de vendas daquele vendedor, mas essa comissão nunca deve ser inferior ao salário mínimo.    \n",
        "Escreva um programa que leia o valor total das vendas de um vendedor e escreva seu salário."
      ]
    },
    {
      "cell_type": "code",
      "metadata": {
        "id": "b_B7cSyCbwyu",
        "colab": {
          "base_uri": "https://localhost:8080/",
          "height": 50
        },
        "outputId": "51894dce-e140-4b15-90d9-197d92a0b909"
      },
      "source": [
        "salmin = 1045.00\n",
        "perc = 5/100\n",
        "\n",
        "totvend = float(input('Valor total das vendas: R$ '))\n",
        "\n",
        "salario = totvend * perc\n",
        "\n",
        "if salario < salmin:\n",
        "  salario = salmin\n",
        "\n",
        "print(f'Salário: R$ {salario:.2f}')"
      ],
      "execution_count": null,
      "outputs": [
        {
          "output_type": "stream",
          "text": [
            "Valor total das vendas: R$ 10000\n",
            "Salário: R$ 1045.00\n"
          ],
          "name": "stdout"
        }
      ]
    },
    {
      "cell_type": "markdown",
      "metadata": {
        "id": "fAfMfQKM_jPo"
      },
      "source": [
        "##Questão 6"
      ]
    },
    {
      "cell_type": "markdown",
      "metadata": {
        "id": "1XEaAa17sw2D"
      },
      "source": [
        "Escreva um programa para determinar as raízes de uma equação de segundo grau, dados os seus coeficientes. Fórmulas:      \n",
        "      \n",
        "![imagem2_6.png](data:image/png;base64,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)\n",
        "\n",
        "\n",
        "Obs: se Δ for negativo, não existem as raízes da equação.   \n",
        "Dica: use a função sqrt do módulo math.\n"
      ]
    },
    {
      "cell_type": "code",
      "metadata": {
        "id": "Iag61tvVbw2r",
        "colab": {
          "base_uri": "https://localhost:8080/",
          "height": 101
        },
        "outputId": "b575c6fe-c325-4f25-d825-9bb66d63b0ea"
      },
      "source": [
        "import math\n",
        "\n",
        "print('Entre com os coeficientes da equação de 2º grau:')\n",
        "a = float(input('a: '))\n",
        "b = float(input('b: '))\n",
        "c = float(input('c: '))\n",
        "\n",
        "delta = (b**2) - (4*a*c)\n",
        "\n",
        "if delta < 0:\n",
        "  print('Não há raízes')\n",
        "else:\n",
        "  x1 = (-b + math.sqrt(delta)) / (2*a)\n",
        "  x2 = (-b - math.sqrt(delta)) / (2*a)\n",
        "  print(f'As raízes são: {x1:.1f} e {x2:.1f}')"
      ],
      "execution_count": null,
      "outputs": [
        {
          "output_type": "stream",
          "text": [
            "Entre com os coeficientes da equação de 2º grau:\n",
            "a: 1\n",
            "b: 2\n",
            "c: -8\n",
            "As raízes são: 2.0 e -4.0\n"
          ],
          "name": "stdout"
        }
      ]
    },
    {
      "cell_type": "markdown",
      "metadata": {
        "id": "35Hubnu6_2Dq"
      },
      "source": [
        "##Questão 7"
      ]
    },
    {
      "cell_type": "markdown",
      "metadata": {
        "id": "R_mFKeHLqyES"
      },
      "source": [
        "Escreva um programa que tenha a funcionalidade de uma calculadora simples.    \n",
        "O programa deve solicitar a digitação de dois operandos inteiros e um operador (+ - x * / %) e deve imprimir ao resultado da operação aritmética.    \n",
        "Caso o usuário digite um operador inválido, o programa deve imprimir \"Operador desconhecido\"."
      ]
    },
    {
      "cell_type": "code",
      "metadata": {
        "id": "F1-xJrcabxJD",
        "colab": {
          "base_uri": "https://localhost:8080/",
          "height": 84
        },
        "outputId": "b6fa6b3d-056a-4623-e270-5bb8cfcd6398"
      },
      "source": [
        "x = int(input('1º operando: '))\n",
        "y = int(input('2º operando: '))\n",
        "op = input('Operador: ')\n",
        "\n",
        "if op == '+':\n",
        "  print(x + y)\n",
        "elif op == '-':\n",
        "  print(x - y)\n",
        "elif op == 'x' or op == '*':\n",
        "  print(x * y)\n",
        "elif op == '/':\n",
        "  print(x / y)\n",
        "elif op == '%':\n",
        "  print(x % y)\n",
        "else:\n",
        "  print('Operador desconhecido')"
      ],
      "execution_count": null,
      "outputs": [
        {
          "output_type": "stream",
          "text": [
            "1º operando: 5\n",
            "2º operando: 2\n",
            "Operador: x\n",
            "10\n"
          ],
          "name": "stdout"
        }
      ]
    },
    {
      "cell_type": "markdown",
      "metadata": {
        "id": "8xAI-9Bs_91H"
      },
      "source": [
        "##Questão 8"
      ]
    },
    {
      "cell_type": "markdown",
      "metadata": {
        "id": "m_GPoovQqywh"
      },
      "source": [
        "Escreva um programa que solicite a digitação de um número (de 1 a 7) correspondente a um dia da semana e imprima o nome do dia da semana e se é dia útil (de segunda a sexta) ou final de semana (sábado e domingo).    \n",
        "Considere que o dia 1 é o domingo."
      ]
    },
    {
      "cell_type": "code",
      "metadata": {
        "id": "jTD9NTy3bxRX",
        "colab": {
          "base_uri": "https://localhost:8080/",
          "height": 50
        },
        "outputId": "819f0ae5-8952-4c11-98c9-5ddc22bab937"
      },
      "source": [
        "n = int(input('Número do dia da semana (1 a 7): '))\n",
        "\n",
        "if n == 1:\n",
        "  dia = 'domingo'\n",
        "elif n == 2:\n",
        "  dia = 'segunda-feira'\n",
        "elif n == 3:\n",
        "  dia = 'terça-feira'\n",
        "elif n == 4:\n",
        "  dia = 'quarta-feira'\n",
        "elif n == 5:\n",
        "  dia = 'quinta-feira'\n",
        "elif n == 6:\n",
        "  dia = 'sexta-feira'\n",
        "else:\n",
        "  dia = 'sábado'\n",
        "\n",
        "if n == 1 or n == 7:\n",
        "  tipo = 'final de semana'\n",
        "else:\n",
        "  tipo = 'dia útil'\n",
        "\n",
        "print(f'{dia} ({tipo})')"
      ],
      "execution_count": null,
      "outputs": [
        {
          "output_type": "stream",
          "text": [
            "Número do dia da semana (1 a 7): 1\n",
            "domingo (final de semana)\n"
          ],
          "name": "stdout"
        }
      ]
    },
    {
      "cell_type": "markdown",
      "metadata": {
        "id": "4sqI0CoYqzVL"
      },
      "source": [
        "##Questão 9"
      ]
    },
    {
      "cell_type": "markdown",
      "metadata": {
        "id": "IJgZ70NKAG6R"
      },
      "source": [
        "Escreva um programa que solicite a digitação de um caractere qualquer do teclado e imprima sua classificação:     \n",
        "vogal, consoante, número e caractere especial."
      ]
    },
    {
      "cell_type": "code",
      "metadata": {
        "id": "JUqMtqddbxVJ",
        "colab": {
          "base_uri": "https://localhost:8080/",
          "height": 50
        },
        "outputId": "accdde21-91fe-427e-fefd-ee4eb1129474"
      },
      "source": [
        "entrada = input('Caracter: ')\n",
        "\n",
        "caracter = entrada.lower()\n",
        "\n",
        "if caracter >= 'a' and caracter <= 'z':\n",
        "  if caracter == 'a' or caracter == 'e' or caracter == 'i' or caracter == 'o' or caracter == 'u':\n",
        "    tipo = 'vogal'\n",
        "  else:\n",
        "    tipo = 'consoante'\n",
        "elif caracter >= '0' and caracter <= '9':\n",
        "  tipo = 'número'\n",
        "else:\n",
        "  tipo = 'caracter especial'\n",
        "\n",
        "print('Tipo:',tipo)\n"
      ],
      "execution_count": null,
      "outputs": [
        {
          "output_type": "stream",
          "text": [
            "Caracter: b\n",
            "Tipo: consoante\n"
          ],
          "name": "stdout"
        }
      ]
    },
    {
      "cell_type": "markdown",
      "metadata": {
        "id": "H9tD045nASHQ"
      },
      "source": [
        "##Questão 10"
      ]
    },
    {
      "cell_type": "markdown",
      "metadata": {
        "id": "gQlnYYEXVz0v"
      },
      "source": [
        "Escreva um programa que leia a idade de um nadador e classifique-o em sua respectiva categoria, de acordo com a tabela abaixo:    \n",
        "> ![imagem2_10.png](data:image/png;base64,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)"
      ]
    },
    {
      "cell_type": "code",
      "metadata": {
        "id": "mSRfIvoSbxc7",
        "colab": {
          "base_uri": "https://localhost:8080/",
          "height": 50
        },
        "outputId": "eb97df95-eb65-443c-d71c-41349edabda7"
      },
      "source": [
        "idade = int(input('Idade: '))\n",
        "\n",
        "if idade <= 10:\n",
        "  cat = 'Infantil'\n",
        "elif idade <= 17:\n",
        "  cat = 'Juvenil'\n",
        "elif idade <= 49:\n",
        "  cat = 'Adulto'\n",
        "else:\n",
        "  cat = 'Senior'\n",
        "\n",
        "print('Categoria:',cat)"
      ],
      "execution_count": null,
      "outputs": [
        {
          "output_type": "stream",
          "text": [
            "Idade: 20\n",
            "Categoria: Adulto\n"
          ],
          "name": "stdout"
        }
      ]
    },
    {
      "cell_type": "markdown",
      "metadata": {
        "id": "w3lEtLMDAavZ"
      },
      "source": [
        "##Questão 11"
      ]
    },
    {
      "cell_type": "markdown",
      "metadata": {
        "id": "btD6yw7sq1BR"
      },
      "source": [
        "Escreva um programa que leia o peso e a altura de uma pessoa, determine e mostre o seu grau de obesidade, de acordo com a tabela seguinte. O grau de obesidade é determinado pelo índice de massa corpórea, cujo cálculo é realizado dividindo-se o peso da pessoa pelo quadrado da sua altura.    \n",
        "> ![imagem2_11.png](data:image/png;base64,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)"
      ]
    },
    {
      "cell_type": "code",
      "metadata": {
        "id": "jQRGZVnPbxhX",
        "colab": {
          "base_uri": "https://localhost:8080/",
          "height": 67
        },
        "outputId": "c3a4bc45-d7cb-4cb0-ec5b-bf88959b4d8e"
      },
      "source": [
        "peso = float(input('Peso(kg): '))\n",
        "alt = float(input('Altura(m): '))\n",
        "\n",
        "imc = peso / (alt**2)\n",
        "\n",
        "if imc < 26:\n",
        "  grau = 'Normal'\n",
        "elif imc < 30:\n",
        "  grau = 'Obeso'\n",
        "else:\n",
        "  grau = 'Obeso Mórbido'\n",
        "\n",
        "print('Grau de Obesidade:',grau)"
      ],
      "execution_count": null,
      "outputs": [
        {
          "output_type": "stream",
          "text": [
            "Peso(kg): 80\n",
            "Altura(m): 1.75\n",
            "Grau de Obesidade: Obeso\n"
          ],
          "name": "stdout"
        }
      ]
    },
    {
      "cell_type": "markdown",
      "metadata": {
        "id": "25M06QfpAkTZ"
      },
      "source": [
        "##Questão 12"
      ]
    },
    {
      "cell_type": "markdown",
      "metadata": {
        "id": "7K7Ut6EeWN2t"
      },
      "source": [
        "Um banco concederá um crédito especial aos seus clientes, de acordo com o saldo médio de cada cliente no último ano.    \n",
        "Escreva um programa que leia o nome e o saldo médio de um cliente e calcule o valor do crédito de acordo com a tabela abaixo.    \n",
        "> ![imagem2_12.png](data:image/png;base64,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)    \n",
        "\n",
        "O programa deverá exibir uma mensagem informando o nome do cliente, seu saldo médio e o valor do crédito disponibilizado."
      ]
    },
    {
      "cell_type": "code",
      "metadata": {
        "id": "Cie9m_QpA5YY",
        "colab": {
          "base_uri": "https://localhost:8080/",
          "height": 67
        },
        "outputId": "dfd4469c-95c1-40b0-e327-4e2ceac7c22f"
      },
      "source": [
        "nome = input('Nome do cliente: ')\n",
        "salmed = float(input('Saldo médio (R$): '))\n",
        "\n",
        "if salmed < 500:\n",
        "  cred = 0\n",
        "elif salmed < 1000:\n",
        "  cred = salmed * 20/100\n",
        "elif salmed < 2500:\n",
        "  cred = salmed * 30/100\n",
        "else:\n",
        "  cred = salmed * 40/100\n",
        "\n",
        "print(f'Valor do crédito: R$ {cred:.2f}')"
      ],
      "execution_count": null,
      "outputs": [
        {
          "output_type": "stream",
          "text": [
            "Nome do cliente: Cândido\n",
            "Saldo médio (R$): 2000\n",
            "Valor do crédito: R$ 600.00\n"
          ],
          "name": "stdout"
        }
      ]
    },
    {
      "cell_type": "markdown",
      "metadata": {
        "id": "V3Ub_kNxA2Bf"
      },
      "source": [
        "##Questão 13"
      ]
    },
    {
      "cell_type": "markdown",
      "metadata": {
        "id": "GiQzrBL9WplY"
      },
      "source": [
        "Escreva um programa que leia quatro notas e calcule a média obtida, desprezando a nota mais baixa.    \n",
        "O programa deverá determinar o conceito do aluno na disciplina, de acordo com a tabela seguinte:\n",
        "> ![imagem2_13.png](data:image/png;base64,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)\n",
        "\n",
        "Ao final, mostrar a média, o conceito correspondente e a mensagem APROVADO (se o conceito for A, B ou C) ou REPROVADO (se o conceito for D ou E)."
      ]
    },
    {
      "cell_type": "code",
      "metadata": {
        "id": "Qe2sGkSR5bda",
        "colab": {
          "base_uri": "https://localhost:8080/",
          "height": 134
        },
        "outputId": "087a1dca-1b81-43b2-ffb2-fe288031c5f3"
      },
      "source": [
        "n1 = float(input('1ª Nota: '))\n",
        "n2 = float(input('2ª Nota: '))\n",
        "n3 = float(input('3ª Nota: '))\n",
        "n4 = float(input('4ª Nota: '))\n",
        "\n",
        "if n1<n2 and n1<n3 and n1<n4:\n",
        "  menor = n1\n",
        "elif n2<n3 and n2<n4:\n",
        "  menor = n2\n",
        "elif n3<n4:\n",
        "  menor = n3\n",
        "else:\n",
        "  menor = n4\n",
        "\n",
        "media = (n1 + n2 + n3 + n4 - menor) / 3\n",
        "\n",
        "if media >= 9.0:\n",
        "  conc = 'A'\n",
        "elif media >= 7.5:\n",
        "  conc = 'B'\n",
        "elif media >= 6.0:\n",
        "  conc = 'C'\n",
        "elif media >= 4.0:\n",
        "  conc = 'D'\n",
        "else:\n",
        "  conc = 'E'\n",
        "\n",
        "if conc == 'A' or conc == 'B' or conc == 'C':\n",
        "  sit = 'Aprovado'\n",
        "else:\n",
        "  sit = 'Reprovado'\n",
        "\n",
        "print(f'Média: {media:.1f}')\n",
        "print(f'Conceito: {conc}')\n",
        "print(f'Situação: {sit}')"
      ],
      "execution_count": null,
      "outputs": [
        {
          "output_type": "stream",
          "text": [
            "1ª Nota: 7\n",
            "2ª Nota: 8\n",
            "3ª Nota: 9\n",
            "4ª Nota: 3\n",
            "Média: 8.0\n",
            "Conceito: B\n",
            "Situação: Aprovado\n"
          ],
          "name": "stdout"
        }
      ]
    },
    {
      "cell_type": "markdown",
      "metadata": {
        "id": "_MWlwCqrA9mQ"
      },
      "source": [
        "##Questão 14"
      ]
    },
    {
      "cell_type": "markdown",
      "metadata": {
        "id": "Q46WYbAh5c4Z"
      },
      "source": [
        "Na primeira etapa de um concurso, o candidato tem que fazer duas provas. Dessas duas notas é tirada a média do candidato. Caso essa média seja maior ou igual a 7.0, ele estará apto a fazer a segunda etapa do concurso.    \n",
        "Na segunda etapa, ele fará mais uma prova, onde deverá obter uma nota maior ou igual a 8.0 para ser aprovado no concurso.     \n",
        "Escreva um programa que leia as notas da primeira etapa, calcule a média da primeira etapa, e se o candidato for aprovado na primeira etapa, leia a nota dele na segunda etapa e diga se ele foi aprovado ou não no concurso."
      ]
    },
    {
      "cell_type": "code",
      "metadata": {
        "id": "TLgSNGWb5mUO",
        "colab": {
          "base_uri": "https://localhost:8080/",
          "height": 134
        },
        "outputId": "c4b68882-271d-4434-96f5-d094259630ed"
      },
      "source": [
        "print('1ª Etapa')\n",
        "n1 = float(input('Nota 1: '))\n",
        "n2 = float(input('Nota 2: '))\n",
        "media = (n1 + n2) / 2\n",
        "print(f'Média: {media:.1f}')\n",
        "\n",
        "if media >= 7.0:\n",
        "  print('Apto para a 2ª Etapa')\n",
        "  n3 = float(input('Nota 3: '))\n",
        "  if n3 >= 8.0:\n",
        "    print('Aprovado no concurso')\n",
        "  else:\n",
        "    print('Reprovado no concurso')\n",
        "else:\n",
        "  print('Eliminado na 1ª Etapa')"
      ],
      "execution_count": null,
      "outputs": [
        {
          "output_type": "stream",
          "text": [
            "1ª Etapa\n",
            "Nota 1: 7\n",
            "Nota 2: 8\n",
            "Média: 7.5\n",
            "Apto para a 2ª Etapa\n",
            "Nota 3: 7\n",
            "Reprovado no concurso\n"
          ],
          "name": "stdout"
        }
      ]
    },
    {
      "cell_type": "markdown",
      "metadata": {
        "id": "QhqKONF4Bms3"
      },
      "source": [
        "##Questão 15"
      ]
    },
    {
      "cell_type": "markdown",
      "metadata": {
        "id": "2s60B26m7Hni"
      },
      "source": [
        "Escreva um programa que leia a hora de início de um jogo e a hora do final do jogo (considerando apenas horas inteiras), calcula a duração do jogo em horas, sabendo-se que o tempo máximo de duração do jogo é de 24 horas e que o jogo pode iniciar em um dia e terminar no dia seguinte. O programa deve mostrar o resultado obtido."
      ]
    },
    {
      "cell_type": "code",
      "metadata": {
        "id": "o2WrXBkm7OPX",
        "colab": {
          "base_uri": "https://localhost:8080/",
          "height": 67
        },
        "outputId": "154631e4-2447-468c-e806-307a9b33ed28"
      },
      "source": [
        "inicio = int(input('Hora incial: '))\n",
        "final = int(input('Hora final: '))\n",
        "\n",
        "if inicio < final:\n",
        "  tempo = final - inicio\n",
        "else:\n",
        "  tempo = 24 - inicio + final\n",
        "\n",
        "print('Duração:',tempo,'hora(s)')"
      ],
      "execution_count": null,
      "outputs": [
        {
          "output_type": "stream",
          "text": [
            "Hora incial: 23\n",
            "Hora final: 1\n",
            "Duração: 2 hora(s)\n"
          ],
          "name": "stdout"
        }
      ]
    },
    {
      "cell_type": "markdown",
      "metadata": {
        "id": "yW9uxLLVBujA"
      },
      "source": [
        "##Questão 16"
      ]
    },
    {
      "cell_type": "markdown",
      "metadata": {
        "id": "bss3Uzn87k8B"
      },
      "source": [
        "Escreva um programa que solicite a digitação de um ano e imprima sua classificação como bissexto ou não bissexto.     \n",
        "Obs: um ano é bissexto se for divisível por 4, mas não por 100. Um ano também é bissexto se for divisível por 400."
      ]
    },
    {
      "cell_type": "code",
      "metadata": {
        "id": "Az_JEADmDzy-",
        "colab": {
          "base_uri": "https://localhost:8080/",
          "height": 50
        },
        "outputId": "b354d980-f494-455b-c71f-7edc4d44054d"
      },
      "source": [
        "ano = int(input('Ano: '))\n",
        "\n",
        "if ((ano % 4 == 0) and (ano % 100 != 0)) or (ano % 400 == 0):\n",
        "  print('Bissexto')\n",
        "else:\n",
        "  print('Não bissexto')"
      ],
      "execution_count": null,
      "outputs": [
        {
          "output_type": "stream",
          "text": [
            "Ano: 2020\n",
            "Bissexto\n"
          ],
          "name": "stdout"
        }
      ]
    },
    {
      "cell_type": "markdown",
      "metadata": {
        "id": "niZyeNxpw8es"
      },
      "source": [
        "##Questão 17"
      ]
    },
    {
      "cell_type": "markdown",
      "metadata": {
        "id": "CB8Y3zoKxAUG"
      },
      "source": [
        "Escreva um programa para calcular a conta final de um hóspede de um hotel, considerando que:      \n",
        "* Serão lidos o nome do hóspede, o tipo do apartamento utilizado (A, B, C ou D), o número de diárias utilizadas pelo hóspede e o valor do consumo interno do hóspede;     \n",
        "* O valor da diária é determinado pela seguinte tabela:     \n",
        "\n",
        "> ![imagem2_17.png](data:image/png;base64,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)      \n",
        "\n",
        "* O valor total das diárias é calculado pela multiplicação do número de diárias utilizadas pelo valor da diária;     \n",
        "* O subtotal é calculado pela soma do valor total das diárias e o valor do consumo interno;     \n",
        "* O valor da taxa de serviço equivale a 10% do subtotal;     \n",
        "* O total geral resulta da soma do subtotal com a taxa de serviço.    \n",
        "\n",
        "O programa deverá mostrar a conta final do hóspede, contendo: o nome do hóspede, o tipo do apartamento, o número de diárias utilizadas, o valor unitário da diária, o valor total das diárias, o valor do consumo interno, o subtotal, o valor da taxa de serviço e o total geral.\n"
      ]
    },
    {
      "cell_type": "code",
      "metadata": {
        "id": "CagBFVENw-1f",
        "colab": {
          "base_uri": "https://localhost:8080/",
          "height": 319
        },
        "outputId": "8d2788ce-2daf-4de4-8eda-c177af707628"
      },
      "source": [
        "nome = input('Nome do hóspede: ')\n",
        "tipo = input('Tipo do apto (A,B,C,D): ').upper()\n",
        "nd = int(input('Nº de diárias: '))\n",
        "vci = float(input('Consumo interno: R$'))\n",
        "\n",
        "if tipo == 'A':\n",
        "  vd = 150.00\n",
        "elif tipo == 'B':\n",
        "  vd = 100.00\n",
        "elif tipo == 'C':\n",
        "  vd = 75.00\n",
        "else:\n",
        "  vd = 50.00\n",
        "\n",
        "vtd = nd * vd\n",
        "sub = vtd + vci\n",
        "taxa = sub * 10/100\n",
        "total = sub + taxa\n",
        "\n",
        "print('\\n=======================================')\n",
        "print('              CONTA FINAL              ')\n",
        "print('=======================================')\n",
        "print(f'Nome do hóspede...........: {nome}')\n",
        "print(f'Tipo do apartamento.......: {tipo}')\n",
        "print(f'Número de diárias.........: {nd}')\n",
        "print(f'Valor unitário da diária..: R$ {vd:8.2f}')\n",
        "print(f'Valor total das diárias...: R$ {vtd:8.2f}')\n",
        "print(f'Valor do consumo interno..: R$ {vci:8.2f}')\n",
        "print(f'Subtotal..................: R$ {sub:8.2f}')\n",
        "print(f'Taxa de serviço (10%).....: R$ {taxa:8.2f}')\n",
        "print(f'Total geral...............: R$ {total:8.2f}')\n",
        "print('=======================================')"
      ],
      "execution_count": null,
      "outputs": [
        {
          "output_type": "stream",
          "text": [
            "Nome do hóspede: Cândido\n",
            "Tipo do apto (A,B,C,D): b\n",
            "Nº de diárias: 3\n",
            "Consumo interno: R$200\n",
            "\n",
            "=======================================\n",
            "              CONTA FINAL              \n",
            "=======================================\n",
            "Nome do hóspede...........: Cândido\n",
            "Tipo do apartamento.......: B\n",
            "Número de diárias.........: 3\n",
            "Valor unitário da diária..: R$   100.00\n",
            "Valor total das diárias...: R$   300.00\n",
            "Valor do consumo interno..: R$   200.00\n",
            "Subtotal..................: R$   500.00\n",
            "Taxa de serviço (10%).....: R$    50.00\n",
            "Total geral...............: R$   550.00\n",
            "=======================================\n"
          ],
          "name": "stdout"
        }
      ]
    }
  ]
}